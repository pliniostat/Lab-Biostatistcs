{
 "cells": [
  {
   "cell_type": "markdown",
   "metadata": {
    "deletable": false,
    "editable": false
   },
   "source": [
    "<a href=\"http://www.unioeste.br\"><img src=\"https://www5.unioeste.br/portalunioeste/templates/tlpcampus/images/logoUnioeste.png\" align=\"right\"></a>\n",
    "\n",
    "<h1><center>Atividade Prática em R - Medidas de Dispersão e Escores Padronizados</center></h1>\n",
    "\n",
    "<center>Prof.Dr. Plinio Andrade</center>\n",
    "\n",
    "Neste roteiro prático você aprenderá a utilizar o R para:\n",
    "\n",
    "* Calcular a variância, o desvio padrão e o coeficiente de variação dos dados como medidas de dispersão;\n",
    "* Obter escores padronizados.\n",
    "\n",
    "<b> <font color='red'>ATENÇÃO!</font></b> sempre que este arquivo for reaberto você deverá executar todas as células de código novamente. Cada célula ativa é executada pressionando o botão <b>Run</b> no menu ou teclando <b>Ctrl+Enter</b> (persistindo dúvidas, assista a videoaula de apresentação sobre notebooks).\n",
    "\n",
    "Caso necessite criar mais células de código, basta ir ao menu Insert.\n",
    "\n",
    "Vamos carregar novamente os dados da Cia. MB. Execute a célula a seguir:"
   ]
  },
  {
   "cell_type": "code",
   "execution_count": null,
   "metadata": {
    "deletable": false,
    "editable": false
   },
   "outputs": [],
   "source": [
    "arquivo = url('https://www.ime.usp.br/~pam/dados.RData') # armazenamos o endereço eletrônico numa variável chamada arquivo\n",
    "load(arquivo)                                            # carregando o arquivo\n",
    "attach(tab2_1)                                           # acessando as variáveis"
   ]
  },
  {
   "cell_type": "markdown",
   "metadata": {
    "deletable": false,
    "editable": false
   },
   "source": [
    "## 1) Medidas de Dispersão\n",
    "\n",
    "### 1.1) Variância, Desvio Padrão e Coeficiente de Variação\n",
    "\n",
    "Podemos calcular a variância e o desvio padrão de uma variável por meio das funções ```var()``` e ```sd()``` respectivamente. Vale lembrar que se houver dados faltantes, devemos incluir o argumento ```na.rm = TRUE```. Vamos testar essas funções na variável **salário** executando as células a seguir:"
   ]
  },
  {
   "cell_type": "code",
   "execution_count": null,
   "metadata": {
    "deletable": false,
    "editable": false
   },
   "outputs": [],
   "source": [
    "var(salario) # variância"
   ]
  },
  {
   "cell_type": "code",
   "execution_count": null,
   "metadata": {
    "deletable": false,
    "editable": false
   },
   "outputs": [],
   "source": [
    "sd(salario)  # desvio padrão (raiz quadrada da variância)"
   ]
  },
  {
   "cell_type": "markdown",
   "metadata": {
    "deletable": false,
    "editable": false
   },
   "source": [
    "Para obter o coeficiente de variação, basta calcular o quociente entre o desvio padrão e a média da variável (multiplicando o resultado por 100). Façamos isso para a variável **salário**. Execute a célula a seguir:"
   ]
  },
  {
   "cell_type": "code",
   "execution_count": null,
   "metadata": {
    "deletable": false,
    "editable": false
   },
   "outputs": [],
   "source": [
    "sd(salario)/mean(salario)*100"
   ]
  },
  {
   "cell_type": "markdown",
   "metadata": {
    "deletable": false,
    "editable": false
   },
   "source": [
    "### Exercício 1\n",
    "Calcule o coeficiente de variação da variável **número de filhos**."
   ]
  },
  {
   "cell_type": "code",
   "execution_count": null,
   "metadata": {},
   "outputs": [],
   "source": []
  },
  {
   "cell_type": "code",
   "execution_count": null,
   "metadata": {},
   "outputs": [],
   "source": []
  },
  {
   "cell_type": "code",
   "execution_count": null,
   "metadata": {},
   "outputs": [],
   "source": []
  },
  {
   "cell_type": "markdown",
   "metadata": {
    "deletable": false,
    "editable": false
   },
   "source": [
    "## 2) Escores Padronizados\n",
    "\n",
    "Vimos que um escore padronizado é uma transformação que se aplica em uma observação dos dados. Felizmente não é necessário calcular um escore para cada observação, uma vez que o R é capaz de realizar uma mesma operação aritmética em todos os valores observados de uma única vez. Vamos considerar a variável **salário** e obter seus escores padronizados armazenando-os em um objeto chamado ```z```. Execute a célula a seguir:"
   ]
  },
  {
   "cell_type": "code",
   "execution_count": null,
   "metadata": {
    "deletable": false,
    "editable": false
   },
   "outputs": [],
   "source": [
    "z = (salario - mean(salario))/sd(salario) # armazenando\n",
    "z                                         # mostrando o conteúdo do objeto z"
   ]
  },
  {
   "cell_type": "markdown",
   "metadata": {
    "deletable": false,
    "editable": false
   },
   "source": [
    "Como os dados estão ordenados, fica fácil identificar valores atípicos (menores do que -2 ou maiores do que 2). Observe que apenas o último escore é atípico, pois seu valor é aproximadamente 2,65. Ou seja, o salário correspondente ao último empregado da Cia. MB. (cujo valor é 23,3 salários) está a 2,65 desvios-padrão acima da média, sendo muito mais alto que os demais.\n",
    "\n",
    "### Exercício 2\n",
    "\n",
    "O seguinte conjunto de dados corresponde ao pesos (em kg) de 10 recém-nascidos:\n",
    "\n",
    "$$3,2 \\ \\ \\ \\ 3,2 \\ \\ \\ \\ 2,8  \\ \\ \\ \\ 2,1 \\ \\ \\ \\ 2,9 \\ \\ \\ \\ 3,1  \\ \\ \\ \\ 3,2 \\ \\ \\ \\ 3,0 \\ \\ \\ \\ 3,5 \\ \\ \\ \\ 4,0$$\n",
    "\n",
    "É razoável supor que a variável *peso* tenha distribuição normal. Verifique por meio de escores padronizados se há algum peso que possa ser considerado discrepante. **Dica**: Você aprendeu a inserir os dados manualmente no roteiro prático anterior."
   ]
  },
  {
   "cell_type": "code",
   "execution_count": null,
   "metadata": {},
   "outputs": [],
   "source": []
  },
  {
   "cell_type": "code",
   "execution_count": null,
   "metadata": {},
   "outputs": [],
   "source": []
  },
  {
   "cell_type": "code",
   "execution_count": null,
   "metadata": {},
   "outputs": [],
   "source": []
  },
  {
   "cell_type": "markdown",
   "metadata": {
    "deletable": false,
    "editable": false
   },
   "source": [
    "## Parabéns, você concluiu este roteiro prático!\n",
    "\n",
    "<b> <font color='red'>ATENÇÃO! Imprima o conteúdo deste notebook para enventuais consultas futuras, pois assim que o navegador for fechado os códigos serão apagados. Para imprimir, tecle Ctrl+P e salve como um arquivo PDF.</font></b>"
   ]
  }
 ],
 "metadata": {
  "kernelspec": {
   "display_name": "R",
   "language": "R",
   "name": "ir"
  },
  "language_info": {
   "codemirror_mode": "r",
   "file_extension": ".r",
   "mimetype": "text/x-r-source",
   "name": "R",
   "pygments_lexer": "r",
   "version": "3.6.1"
  }
 },
 "nbformat": 4,
 "nbformat_minor": 4
}
