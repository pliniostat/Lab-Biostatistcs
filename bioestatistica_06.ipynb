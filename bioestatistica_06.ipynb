{
 "cells": [
  {
   "cell_type": "markdown",
   "metadata": {
    "deletable": false,
    "editable": false
   },
   "source": [
    "<a href=\"http://www.unioeste.br\"><img src=\"https://www5.unioeste.br/portalunioeste/templates/tlpcampus/images/logoUnioeste.png\" align=\"right\"></a>\n",
    "\n",
    "<h1><center>Atividade Prática em R - Verificação de Normalidade</center></h1>\n",
    "\n",
    "<center>Prof.Dr. Plinio Andrade</center>\n",
    "\n",
    "Neste roteiro prático você aprenderá a utilizar o R para:\n",
    "\n",
    "* Verificar se os dados possuem distribuição aproximadamente normal;\n",
    "* obter gráficos de quantis normais;\n",
    "* obter os coeficientes de assimetria e curtose;\n",
    "* testar a hipóteses de normalidade dos dados.\n",
    "\n",
    "<b> <font color='red'>ATENÇÃO!</font></b> sempre que este arquivo for reaberto você deverá executar todas as células de código novamente. Cada célula ativa é executada pressionando o botão <b>Run</b> no menu ou teclando <b>Ctrl+Enter</b> (persistindo dúvidas, assista a videoaula de apresentação sobre notebooks).\n",
    "\n",
    "Caso necessite criar mais células de código, basta ir ao menu Insert.\n",
    "\n",
    "## 1) Uso de bibliotecas no R\n",
    "\n",
    "Para essa atividade precisaremos recorrer à duas bibliotecas: ```normtest``` que possui testes de normalidade implementados e ```moments``` para calcular o coeficiente de assimetria e curtose. Se você for utilizar a versão do R instalada no computador, deverá instalar essas bibliotecas antes de carregá-las (obviamente isso não será necessário aqui). Execute a célula a seguir:"
   ]
  },
  {
   "cell_type": "code",
   "execution_count": null,
   "metadata": {
    "deletable": false,
    "editable": false
   },
   "outputs": [],
   "source": [
    "require(nortest)\n",
    "require(moments)"
   ]
  },
  {
   "cell_type": "markdown",
   "metadata": {
    "deletable": false,
    "editable": false
   },
   "source": [
    "## 2) Dados\n",
    "\n",
    "Utilizaremos os dados de contagem do número de linhas dermatoglíficas a-b feita nas mãos de 80 indivíduos do sexo masculino (apresentados em aula). A célula a seguir irá armazenar esses dados num objeto ```x```."
   ]
  },
  {
   "cell_type": "code",
   "execution_count": null,
   "metadata": {
    "deletable": false,
    "editable": false
   },
   "outputs": [],
   "source": [
    "x=c(41,53,63,64,65,65,69,70,71,71,71,72,73,73,73,74,74,75,75,76,76,77,77,78,79,80,80,80,80,80,81,81,81,82,82,82,82,82,83,83,83,84,84,84,84,85,85,85,86,86,86,87,87,87,87,87,88,88,88,88,88,89,90,90,90,90,92,92,92,92,93,94,94,97,98,98,98,100,103,105)"
   ]
  },
  {
   "cell_type": "markdown",
   "metadata": {
    "deletable": false,
    "editable": false
   },
   "source": [
    "Os gráficos exploratórios a seguir são conhecidos. Execute as células a seguir para visualizá-los."
   ]
  },
  {
   "cell_type": "code",
   "execution_count": null,
   "metadata": {
    "deletable": false,
    "editable": false
   },
   "outputs": [],
   "source": [
    "hist(x)                     # Histograma"
   ]
  },
  {
   "cell_type": "code",
   "execution_count": null,
   "metadata": {
    "deletable": false,
    "editable": false
   },
   "outputs": [],
   "source": [
    "props = seq(0,1,0.05)\n",
    "quant = quantile(x,props)\n",
    "plot(props, quant)          # Gráfico de quantis amostrais"
   ]
  },
  {
   "cell_type": "code",
   "execution_count": null,
   "metadata": {
    "deletable": false,
    "editable": false
   },
   "outputs": [],
   "source": [
    "boxplot(x)                  # Box plot"
   ]
  },
  {
   "cell_type": "code",
   "execution_count": null,
   "metadata": {},
   "outputs": [],
   "source": [
    "(x-mean(x))/sd(x)"
   ]
  },
  {
   "cell_type": "markdown",
   "metadata": {
    "deletable": false,
    "editable": false
   },
   "source": [
    "## 3) Gráfico de quantis normais\n",
    "\n",
    "Um gráfico de quantis normais é obtido no R por meio da função ```qqnorm()```. Lembrando que tal gráfico serve para comparar os quantis teóricos da distribuição normal com os quantis amostrais dos dados. Se a população que gerou os dados for aproximadamente normal, os pontos do gráfico vão se concentrar em torno da reta diagonal $y=x$. A função ```qqline()``` adiciona essa linha diagonal ao gráfico. Execute a célula a seguir:"
   ]
  },
  {
   "cell_type": "code",
   "execution_count": null,
   "metadata": {
    "deletable": false,
    "editable": false
   },
   "outputs": [],
   "source": [
    "qqnorm(x)\n",
    "qqline(x)"
   ]
  },
  {
   "cell_type": "markdown",
   "metadata": {
    "deletable": false,
    "editable": false
   },
   "source": [
    "## 4) Coeficiente de assimetria e curtose (biblioteca moments)\n",
    "\n",
    "Vimos em aula que esses coeficientes podem ser utilizados conjuntamente para verificar a normalidade dos dados. As funções utilizadas são ```skewness()``` e ```kurtosis()``` para obter os coeficientes de assimetria e curtose respectivamente. Lembrem-se que estes podem ser comparados com os valores da distribuição normal (0 e 3 respectivamente). Execute a célula a seguir:"
   ]
  },
  {
   "cell_type": "code",
   "execution_count": null,
   "metadata": {
    "deletable": false,
    "editable": false
   },
   "outputs": [],
   "source": [
    "skewness(x)\n",
    "kurtosis(x)"
   ]
  },
  {
   "cell_type": "markdown",
   "metadata": {
    "deletable": false,
    "editable": false
   },
   "source": [
    "## 5) Testes de normalidade (biblioteca nortest)\n",
    "\n",
    "Dentre os testes de normalidade disponíveis, destacamos\n",
    "\n",
    "* Cramer-von Mises - função ```cvm.test()```\n",
    "* Shapiro-Wilk - função ```shapiro.test()```\n",
    "* Shapiro-Francia - função ```sf.test()```\n",
    "* Anderson-Darling - função ```ad.test()```\n",
    "\n",
    "A decisão depende do p-valor (```p-value```). Quanto maior o p-valor, menor é a evidência contra a normalidade dos dados. Execute as células a seguir:"
   ]
  },
  {
   "cell_type": "code",
   "execution_count": null,
   "metadata": {
    "deletable": false,
    "editable": false
   },
   "outputs": [],
   "source": [
    "cvm.test(x)"
   ]
  },
  {
   "cell_type": "code",
   "execution_count": null,
   "metadata": {
    "deletable": false,
    "editable": false
   },
   "outputs": [],
   "source": [
    "shapiro.test(x)"
   ]
  },
  {
   "cell_type": "code",
   "execution_count": null,
   "metadata": {
    "deletable": false,
    "editable": false
   },
   "outputs": [],
   "source": [
    "sf.test(x)"
   ]
  },
  {
   "cell_type": "code",
   "execution_count": null,
   "metadata": {
    "deletable": false,
    "editable": false
   },
   "outputs": [],
   "source": [
    "ad.test(x)"
   ]
  },
  {
   "cell_type": "markdown",
   "metadata": {
    "deletable": false,
    "editable": false
   },
   "source": [
    "A análise sugere que os valores 41 e 53 (1ª e 2ª observações respectivamente) são discrepantes e responsáveis pelo não-normalidade dos dados. Vamos supor que esses possam ser removidos. O seguinte comando irá remover as duas primeiras observações e armazenar o restante num objeto ```y```. Execute a célula a seguir:"
   ]
  },
  {
   "cell_type": "code",
   "execution_count": null,
   "metadata": {
    "deletable": false,
    "editable": false
   },
   "outputs": [],
   "source": [
    "y = x[c(-1,-2)] # removendo a 1ª e 2ª observação e armazenando em y"
   ]
  },
  {
   "cell_type": "markdown",
   "metadata": {
    "deletable": false,
    "editable": false
   },
   "source": [
    "### Exercício 1\n",
    "\n",
    "Faça novamente a análise anterior considerando o novo conjunto de dados. Compare com os resultados apresentados em aula."
   ]
  },
  {
   "cell_type": "code",
   "execution_count": null,
   "metadata": {},
   "outputs": [],
   "source": []
  },
  {
   "cell_type": "code",
   "execution_count": null,
   "metadata": {},
   "outputs": [],
   "source": []
  },
  {
   "cell_type": "code",
   "execution_count": null,
   "metadata": {},
   "outputs": [],
   "source": []
  },
  {
   "cell_type": "code",
   "execution_count": null,
   "metadata": {},
   "outputs": [],
   "source": []
  },
  {
   "cell_type": "code",
   "execution_count": null,
   "metadata": {},
   "outputs": [],
   "source": []
  },
  {
   "cell_type": "code",
   "execution_count": null,
   "metadata": {},
   "outputs": [],
   "source": []
  },
  {
   "cell_type": "markdown",
   "metadata": {
    "deletable": false,
    "editable": false
   },
   "source": [
    "### Exercício 2\n",
    "\n",
    "Considere os dados de níveis de albumina apresentados em aula (lembre-se que você já trabalhou com esse conjunto de dados no roteiro bioestatistica_05). Faça uma análise sobre a normalidade dos dados e compare com os resultados obtidos em aula."
   ]
  },
  {
   "cell_type": "code",
   "execution_count": null,
   "metadata": {},
   "outputs": [],
   "source": []
  },
  {
   "cell_type": "code",
   "execution_count": null,
   "metadata": {},
   "outputs": [],
   "source": []
  },
  {
   "cell_type": "code",
   "execution_count": null,
   "metadata": {},
   "outputs": [],
   "source": []
  },
  {
   "cell_type": "code",
   "execution_count": null,
   "metadata": {},
   "outputs": [],
   "source": []
  },
  {
   "cell_type": "code",
   "execution_count": null,
   "metadata": {},
   "outputs": [],
   "source": []
  },
  {
   "cell_type": "code",
   "execution_count": null,
   "metadata": {},
   "outputs": [],
   "source": []
  },
  {
   "cell_type": "markdown",
   "metadata": {
    "deletable": false,
    "editable": false
   },
   "source": [
    "## Parabéns, você concluiu este roteiro prático!\n",
    "\n",
    "<b> <font color='red'>ATENÇÃO! Imprima o conteúdo deste notebook para enventuais consultas futuras, pois assim que o navegador for fechado os códigos serão apagados. Para imprimir, tecle Ctrl+P e salve como um arquivo PDF.</font></b>"
   ]
  }
 ],
 "metadata": {
  "kernelspec": {
   "display_name": "R",
   "language": "R",
   "name": "ir"
  },
  "language_info": {
   "codemirror_mode": "r",
   "file_extension": ".r",
   "mimetype": "text/x-r-source",
   "name": "R",
   "pygments_lexer": "r",
   "version": "3.6.1"
  }
 },
 "nbformat": 4,
 "nbformat_minor": 4
}
