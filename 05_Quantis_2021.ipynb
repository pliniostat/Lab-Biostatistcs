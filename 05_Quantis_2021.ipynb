{
 "cells": [
  {
   "cell_type": "markdown",
   "metadata": {
    "deletable": false,
    "editable": false
   },
   "source": [
    "<a href=\"http://www.unioeste.br\"><img src=\"https://www5.unioeste.br/portalunioeste/templates/tlpcampus/images/logoUnioeste.png\" align=\"right\"></a>\n",
    "\n",
    "<h1><center>Atividade Prática em R - Quantis amostrais</center></h1>\n",
    "\n",
    "<center>Prof.Dr. Plinio Andrade</center>\n",
    "\n",
    "Neste roteiro prático você aprenderá a utilizar o R para:\n",
    "\n",
    "* Obter quantis amostrais de qualquer ordem;\n",
    "* obter gráficos de quantis;\n",
    "* obter diagramas dos cinco números e box plots;\n",
    "* obter gráficos do tipo quantil x quantil.\n",
    "\n",
    "<b> <font color='red'>ATENÇÃO!</font></b> sempre que este arquivo for reaberto você deverá executar todas as células de código novamente. Cada célula ativa é executada pressionando o botão <b>Run</b> no menu ou teclando <b>Ctrl+Enter</b> (persistindo dúvidas, assista a videoaula de apresentação sobre notebooks).\n",
    "\n",
    "Caso necessite criar mais células de código, basta ir ao menu Insert.\n",
    "\n",
    "## 1) Sobre os dados\n",
    "\n",
    "Para os exemplos a seguir, considere os conjuntos de dados apresentados em aula:\n",
    "\n",
    "* Nível de albumina no sangue de 60 pessoas (em g/dL)\n",
    "\n",
    "| 4,44 | 4,47 | 4,48 | 4,51 | 4,54 | 4,54 | 4,61 | 4,64 | 4,66 | 4,68 |\n",
    "| :-: | :-: | :-: | :-: | :-: | :-: | :-: | :-: | :-: | :-: |\n",
    "| 4,68 | 4,69 | 4,71 | 4,73 | 4,76 | 4,76 | 4,76 | 4,81 | 4,86 | 4,86 |\n",
    "| 4,87 | 4,88 | 4,90 | 4,90 | 4,95 | 4,95 | 4,96 | 4,97 | 4,98 | 4,98 |\n",
    "| 4,99 | 5,00 | 5,01 | 5,01 | 5,01 | 5,02 | 5,04 | 5,05 | 5,08 | 5,09 |\n",
    "| 5,09 | 5,10 | 5,11 | 5,11 | 5,16 | 5,17 | 5,18 | 5,18 | 5,19 | 5,24 |\n",
    "| 5,24 | 5,26 | 5,27 | 5,27 | 5,29 | 5,32 | 5,35 | 5,46 | 5,50 | 5,85 |\n",
    "\n",
    "* Contagem de células $T4/mm^3$ em amostras de sangue\n",
    "\n",
    "| Grupo 1 | Grupo 2 |\n",
    "| :-: | :-: |\n",
    "|431|192|\n",
    "|1283|440|\n",
    "|397|375|\n",
    "|2415|426|\n",
    "|902|1252|\n",
    "|554|208|\n",
    "|958|700|\n",
    "|295|503|\n",
    "|435|688|\n",
    "|568|675|\n",
    "|1378|151|\n",
    "|288|752|\n",
    "|396|377|\n",
    "|1104|772|\n",
    "|1212|116|\n",
    "|1621|375|\n",
    "|171|315|\n",
    "|257|410|\n",
    "|1004|979|\n",
    "|795|736|\n",
    "\n",
    "Vamos armazenar esses dados em objetos adequados. Execute as células a seguir:"
   ]
  },
  {
   "cell_type": "code",
   "execution_count": null,
   "metadata": {
    "deletable": false,
    "editable": false
   },
   "outputs": [],
   "source": [
    "alb = c(444,447,448,451,454,454,461,464,466,468,468,469,471,473,476,476,476,481,486,486,487,488,490,490,495,495,496,497,498,498,499,500,501,501,501,502,504,505,508,509,509,510,511,511,516,517,518,518,519,524,524,526,527,527,529,532,535,546,550,585)\n",
    "alb = alb/100"
   ]
  },
  {
   "cell_type": "code",
   "execution_count": null,
   "metadata": {
    "deletable": false,
    "editable": false
   },
   "outputs": [],
   "source": [
    "g1 = c(431,1283,397,2415,902,554,958,295,435,568,1378,288,396,1104,1212,1621,171,257,1004,795)\n",
    "g2 = c(192,440,375,426,1252,208,700,503,688,675,151,752,377,772,116,375,315,410,979,736)"
   ]
  },
  {
   "cell_type": "markdown",
   "metadata": {
    "deletable": false,
    "editable": false
   },
   "source": [
    "## 2) Quantis Amostrais\n",
    "\n",
    "Quantis amostrais são calculados no R por meio da função ```quantile()```. Devemos informar a variável em estudo e a ordem (proporção) desejada. O R possui 9 algorítmos diferentes para calcular quantis. O método apresentado em aula é o 6º algoritmo. Assim, para comparar com os resultados obtidos em aula, devemos informar qual algoritmo o R deve utilizar. Isso é feito inserindo o argumento ```type = 6```.\n",
    "\n",
    "\n",
    "Por exemplo, considere o seguinte conjunto de dados\n",
    "\n",
    "$$15 \\ \\ \\  5 \\ \\ \\  3 \\ \\ \\  8 \\ \\ \\  10 \\ \\ \\  2 \\ \\ \\  7 \\ \\ \\  11 \\ \\ \\  12$$\n",
    "\n",
    "Vamos obter o valor de $q(0,20)$, ou seja, o quantil de ordem $0,20$ ou o percentil de $20\\%$. Execute a célula a seguir:"
   ]
  },
  {
   "cell_type": "code",
   "execution_count": null,
   "metadata": {
    "deletable": false,
    "editable": false
   },
   "outputs": [],
   "source": [
    "x = c(15,5,3,8,10,2,7,11,12)    # armazenando os dados\n",
    "quantile(x, 0.2, type = 6)      # calculando o quantil"
   ]
  },
  {
   "cell_type": "markdown",
   "metadata": {
    "deletable": false,
    "editable": false
   },
   "source": [
    "Caso o tipo do algoritmo não seja informado, o R irá utilizar a versão padrão da função."
   ]
  },
  {
   "cell_type": "code",
   "execution_count": null,
   "metadata": {
    "deletable": false,
    "editable": false
   },
   "outputs": [],
   "source": [
    "quantile(x, 0.2)"
   ]
  },
  {
   "cell_type": "markdown",
   "metadata": {
    "deletable": false,
    "editable": false
   },
   "source": [
    "### Exercício 1\n",
    "Calcule o quantil de ordem $p=0,44$ a variável **nível de albumina no sangue**."
   ]
  },
  {
   "cell_type": "code",
   "execution_count": null,
   "metadata": {},
   "outputs": [],
   "source": []
  },
  {
   "cell_type": "code",
   "execution_count": null,
   "metadata": {},
   "outputs": [],
   "source": []
  },
  {
   "cell_type": "code",
   "execution_count": null,
   "metadata": {},
   "outputs": [],
   "source": []
  },
  {
   "cell_type": "markdown",
   "metadata": {
    "deletable": false,
    "editable": false
   },
   "source": [
    "## 3) Gráficos de quantis\n",
    "\n",
    "Para obter gráficos de quantis, devemos primeiro criar uma sequência de valores de $p$ no intervalo $[0,1]$ e que serão dispostos no eixo das abscissas (horizontal) do gráfico. Vamos armazenar esses valores no vetor ```props```. Você pode utilizar sempre a mesma sequência em suas aplicações, mas caso queira mais ou menos pontos, basta alterar o argumento que define o tamanho do salto no comando abaixo. Execute a célula a seguir:"
   ]
  },
  {
   "cell_type": "code",
   "execution_count": null,
   "metadata": {
    "deletable": false,
    "editable": false
   },
   "outputs": [],
   "source": [
    "# Criando uma sequência de proporções que começa em 0 e termina em 1 com saltos de tamanho 0,05\n",
    "# Tal sequência será armazenada no vetor \"props\"\n",
    "props = seq(0,1,0.05)\n",
    "props"
   ]
  },
  {
   "cell_type": "markdown",
   "metadata": {
    "deletable": false,
    "editable": false
   },
   "source": [
    "Vamos agora calcular os quantis correspondentes para a variável **nível de albumina no sangue** e armazená-los no vetor ```quant```. Execute a célula a seguir:"
   ]
  },
  {
   "cell_type": "code",
   "execution_count": null,
   "metadata": {
    "deletable": false,
    "editable": false
   },
   "outputs": [],
   "source": [
    "quant = quantile(alb,props)\n",
    "quant"
   ]
  },
  {
   "cell_type": "markdown",
   "metadata": {
    "deletable": false,
    "editable": false
   },
   "source": [
    "Agora podemos criar o gráfico por meio da função ```plot()```. Execute a célula a seguir:"
   ]
  },
  {
   "cell_type": "code",
   "execution_count": null,
   "metadata": {
    "deletable": false,
    "editable": false
   },
   "outputs": [],
   "source": [
    "plot(props, quant) # valores em x como props e valores em y como quant"
   ]
  },
  {
   "attachments": {
    "image.png": {
     "image/png": "[encoded data removed]"
    }
   },
   "cell_type": "markdown",
   "metadata": {
    "deletable": false,
    "editable": false
   },
   "source": [
    "### Exercício 2\n",
    "O tempo (em meses) entre a remissão de uma doença e a recidiva de 48 pacientes de uma determinada clínica médica foi registrado. Os dados ordenados são apresentados a seguir, separadamente para os sexos masculino (M) e feminino (F):\n",
    "\n",
    "![image.png](attachment:image.png)\n",
    "\n",
    "Obtenha os gráficos de quantis para cada grupo (masculino e feminino) e argumente sobre a simetria dos dados (escreva seus argumentos em uma célula sem executá-la)"
   ]
  },
  {
   "cell_type": "code",
   "execution_count": null,
   "metadata": {},
   "outputs": [],
   "source": []
  },
  {
   "cell_type": "code",
   "execution_count": null,
   "metadata": {},
   "outputs": [],
   "source": []
  },
  {
   "cell_type": "code",
   "execution_count": null,
   "metadata": {},
   "outputs": [],
   "source": []
  },
  {
   "cell_type": "markdown",
   "metadata": {
    "deletable": false,
    "editable": false
   },
   "source": [
    "## 4) Diagrama dos Cinco Números\n",
    "\n",
    "O **diagrama dos cinco números** visto em aula é obtido facilmente no R por meio da funcão ```summary()```. Na verdade o R fornece seis valores, pois informa também a média. Execute a célula a seguir para obter este diagrama para a variável **nível de albumina no sangue**:"
   ]
  },
  {
   "cell_type": "code",
   "execution_count": null,
   "metadata": {
    "deletable": false,
    "editable": false
   },
   "outputs": [],
   "source": [
    "summary(alb)"
   ]
  },
  {
   "cell_type": "markdown",
   "metadata": {
    "deletable": false,
    "editable": false
   },
   "source": [
    "### Exercício 3\n",
    "\n",
    "Considere novamente os dados dos exercício 2. Obtenha os diagramas dos cinco números para cada grupo (masculino e feminino)."
   ]
  },
  {
   "cell_type": "code",
   "execution_count": null,
   "metadata": {},
   "outputs": [],
   "source": []
  },
  {
   "cell_type": "code",
   "execution_count": null,
   "metadata": {},
   "outputs": [],
   "source": []
  },
  {
   "cell_type": "code",
   "execution_count": null,
   "metadata": {},
   "outputs": [],
   "source": []
  },
  {
   "cell_type": "markdown",
   "metadata": {
    "deletable": false,
    "editable": false
   },
   "source": [
    "## 5) Box Plot\n",
    "\n",
    "Obtemos um box plot no R utilizando a função ```boxplot()```; basta informar a variável em estudo ou, caso queira realizar uma comparação,  informar as várias variáveis separadas por vírgula.\n",
    "\n",
    "Vamos obter o box plot da variável **nível de albumina no sangue**. Em seguida, vamos obter simultaneamente os box plots para as variáveis **contagem de células T4 (grupo 1)** e **contagem de células T4 (grupo 2)**. Execute as células a seguir:"
   ]
  },
  {
   "cell_type": "code",
   "execution_count": null,
   "metadata": {
    "deletable": false,
    "editable": false
   },
   "outputs": [],
   "source": [
    "boxplot(alb)"
   ]
  },
  {
   "cell_type": "code",
   "execution_count": null,
   "metadata": {
    "deletable": false,
    "editable": false
   },
   "outputs": [],
   "source": [
    "boxplot(g1, g2)"
   ]
  },
  {
   "cell_type": "markdown",
   "metadata": {
    "deletable": false,
    "editable": false
   },
   "source": [
    "### Exercício 4\n",
    "\n",
    "Considere os dados do exercício 2. Obtenha simultaneamente os box plots dos dois grupos (masculino e feminino) interpretando-os em seguida (escreva sua interpretação em uma célula sem executá-la)."
   ]
  },
  {
   "cell_type": "code",
   "execution_count": null,
   "metadata": {},
   "outputs": [],
   "source": []
  },
  {
   "cell_type": "code",
   "execution_count": null,
   "metadata": {},
   "outputs": [],
   "source": []
  },
  {
   "cell_type": "code",
   "execution_count": null,
   "metadata": {},
   "outputs": [],
   "source": []
  },
  {
   "cell_type": "code",
   "execution_count": null,
   "metadata": {},
   "outputs": [],
   "source": []
  },
  {
   "cell_type": "code",
   "execution_count": null,
   "metadata": {},
   "outputs": [],
   "source": []
  },
  {
   "cell_type": "code",
   "execution_count": null,
   "metadata": {},
   "outputs": [],
   "source": []
  },
  {
   "cell_type": "markdown",
   "metadata": {
    "deletable": false,
    "editable": false
   },
   "source": [
    "## 6) Gráfico Quantil x Quantil\n",
    "\n",
    "Para obter um gráfico do tipo quantil x quantil no R, podemos utilizar a função ```qqplot()``` informando as duas variáveis a serem comparadas. Vamos ilustrar sua aplicação com os dados sobre contagem de células T4. Execute a célula a seguir:"
   ]
  },
  {
   "cell_type": "code",
   "execution_count": null,
   "metadata": {
    "deletable": false,
    "editable": false
   },
   "outputs": [],
   "source": [
    "qqplot(g1,g2)"
   ]
  },
  {
   "cell_type": "markdown",
   "metadata": {
    "deletable": false,
    "editable": false
   },
   "source": [
    "Como os eixos do gráfico não ficam na mesma escala, não podemos simplesmente traçar uma linha diagonal para afirmar que as variáveis possuem a mesma distribuição. Uma forma simples de resolver esse problema é utilizar o comando ```abline(0,1)``` que adiciona a reta $y=x$ ao gráfico, isto é, uma reta com coeficiente angular 1 e intercepto 0. Execute a célula a seguir:"
   ]
  },
  {
   "cell_type": "code",
   "execution_count": null,
   "metadata": {
    "deletable": false,
    "editable": false
   },
   "outputs": [],
   "source": [
    "qqplot(g1,g2)\n",
    "abline(0,1)"
   ]
  },
  {
   "cell_type": "markdown",
   "metadata": {
    "deletable": false,
    "editable": false
   },
   "source": [
    "### Exercício 5\n",
    "\n",
    "Obtenha um gráfico de tipo quantil x quantil para os dados do exercício 2. Interprete o gráfico (escreva sua interpretação em uma célula sem executá-la)."
   ]
  },
  {
   "cell_type": "code",
   "execution_count": null,
   "metadata": {},
   "outputs": [],
   "source": []
  },
  {
   "cell_type": "code",
   "execution_count": null,
   "metadata": {},
   "outputs": [],
   "source": []
  },
  {
   "cell_type": "code",
   "execution_count": null,
   "metadata": {},
   "outputs": [],
   "source": []
  },
  {
   "cell_type": "code",
   "execution_count": null,
   "metadata": {},
   "outputs": [],
   "source": []
  },
  {
   "cell_type": "code",
   "execution_count": null,
   "metadata": {},
   "outputs": [],
   "source": []
  },
  {
   "cell_type": "code",
   "execution_count": null,
   "metadata": {},
   "outputs": [],
   "source": []
  },
  {
   "cell_type": "markdown",
   "metadata": {
    "deletable": false,
    "editable": false
   },
   "source": [
    "## Parabéns, você concluiu este roteiro prático!\n",
    "\n",
    "<b> <font color='red'>ATENÇÃO! Imprima o conteúdo deste notebook para enventuais consultas futuras, pois assim que o navegador for fechado os códigos serão apagados. Para imprimir, tecle Ctrl+P e salve como um arquivo PDF.</font></b>"
   ]
  }
 ],
 "metadata": {
  "kernelspec": {
   "display_name": "R",
   "language": "R",
   "name": "ir"
  },
  "language_info": {
   "codemirror_mode": "r",
   "file_extension": ".r",
   "mimetype": "text/x-r-source",
   "name": "R",
   "pygments_lexer": "r",
   "version": "3.6.1"
  }
 },
 "nbformat": 4,
 "nbformat_minor": 4
}
