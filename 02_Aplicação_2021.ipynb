{
 "cells": [
  {
   "cell_type": "markdown",
   "metadata": {
    "deletable": false,
    "editable": false
   },
   "source": [
    "<a href=\"http://www.unioeste.br\"><img src=\"https://www5.unioeste.br/portalunioeste/templates/tlpcampus/images/logoUnioeste.png\" align=\"right\"></a>\n",
    "\n",
    "<h1><center>Atividade Prática em R - Distribuições de Frequências e Tabelas de Contingência (Parte II)</center></h1>\n",
    "\n",
    "<center>Prof.Dr. Plinio Andrade</center>\n",
    "\n",
    "### Neste roteiro prático você irá utilizar o R para:\n",
    "\n",
    "* Analisar dois conjuntos de dados por meio de suas distribuições de frequências e tabelas de contingência.\n",
    "\n",
    "<b> <font color='red'>ATENÇÃO!</font></b> sempre que este notebook for reaberto você deverá executar todas as células de código novamente. Cada célula **ativa** é executada pressionando o botão <b>Run</b> no menu da parte superior da tela, ou teclando <b>Ctrl+Enter</b>. Caso esteja utilizando um smartphone ou tablet, cada célula terá um botão ao lado para ser executada. Persistindo dúvidas, assista novamente o video de apresentação sobre notebooks.\n",
    "\n",
    "***\n",
    "\n",
    "## 1) Teste sorológico\n",
    "\n",
    "Considere os dados da Tabela 3.1 de Beiguelman (2006). Trata-se de um estudo hipotético onde um pesquisador registrou as respostas do tipo positiva (+) ou negativa (-) a um teste sorológico realizado no sangue de 50 indivíduos classificados quanto ao sexo, neste caso feminino (F) e masculino (M) e quanto a raça, a saber caucasóide (C) e negróide (N).\n",
    "\n",
    "Vamos carregar este conjunto de dados em um vetor chamado \"soro\" e visualizá-lo executando o comando da célula a seguir:"
   ]
  },
  {
   "cell_type": "code",
   "execution_count": null,
   "metadata": {
    "deletable": false,
    "editable": false
   },
   "outputs": [],
   "source": [
    "soro = read.table(\"sorologia.csv\", header = TRUE, sep = \";\") # armazenando os dados na memória\n",
    "soro                                                         # visualizando"
   ]
  },
  {
   "cell_type": "markdown",
   "metadata": {
    "deletable": false,
    "editable": false
   },
   "source": [
    "A primeira coluna da tabela representa uma identificação (ID), enquanto as seguintes representam as variáveis **raça**, **sexo** e **reação** denotadas respectivamente por **Raca**, **Sexo** e **Reacao**. Execute a função ```attach()``` a seguir para ter acesso a essas variáveis."
   ]
  },
  {
   "cell_type": "code",
   "execution_count": null,
   "metadata": {
    "deletable": false,
    "editable": false
   },
   "outputs": [],
   "source": [
    "attach(soro) # este comando torna as variáveis acessíveis pelos seus respectivos nomes"
   ]
  },
  {
   "cell_type": "markdown",
   "metadata": {
    "deletable": false,
    "editable": false
   },
   "source": [
    "### Exercício 1\n",
    "Obtenha as frequências relativas e absolutas das variáveis em estudo. Não é necessário construir uma tabela, apenas obtenha os valores correspondentes (que podem ser inseridos posteriormente, em algum editor de texto para serem apresentados). Se precisar inserir mais linhas de código, utilize o botão \"Insert\" do menu na parte superior da tela."
   ]
  },
  {
   "cell_type": "code",
   "execution_count": null,
   "metadata": {},
   "outputs": [],
   "source": []
  },
  {
   "cell_type": "code",
   "execution_count": null,
   "metadata": {},
   "outputs": [],
   "source": []
  },
  {
   "cell_type": "code",
   "execution_count": null,
   "metadata": {},
   "outputs": [],
   "source": []
  },
  {
   "cell_type": "code",
   "execution_count": null,
   "metadata": {},
   "outputs": [],
   "source": []
  },
  {
   "cell_type": "code",
   "execution_count": null,
   "metadata": {},
   "outputs": [],
   "source": []
  },
  {
   "cell_type": "code",
   "execution_count": null,
   "metadata": {},
   "outputs": [],
   "source": []
  },
  {
   "cell_type": "markdown",
   "metadata": {
    "deletable": false,
    "editable": false
   },
   "source": [
    "### Exercício 2\n",
    "Por meio de uma tabela de contingência, verifique qual é a **raça** mais propensa a responder positivamente ao teste, fornecendo a porcentagem correspondente. Faça o mesmo para a variável **sexo**."
   ]
  },
  {
   "cell_type": "code",
   "execution_count": null,
   "metadata": {},
   "outputs": [],
   "source": []
  },
  {
   "cell_type": "code",
   "execution_count": null,
   "metadata": {},
   "outputs": [],
   "source": []
  },
  {
   "cell_type": "code",
   "execution_count": null,
   "metadata": {},
   "outputs": [],
   "source": []
  },
  {
   "cell_type": "code",
   "execution_count": null,
   "metadata": {},
   "outputs": [],
   "source": []
  },
  {
   "cell_type": "code",
   "execution_count": null,
   "metadata": {},
   "outputs": [],
   "source": []
  },
  {
   "cell_type": "code",
   "execution_count": null,
   "metadata": {},
   "outputs": [],
   "source": []
  },
  {
   "cell_type": "markdown",
   "metadata": {
    "deletable": false,
    "editable": false
   },
   "source": [
    "## 2) Níveis de cotinina\n",
    "\n",
    "O próximo conjunto de dados é apresentado na Tabela 2-1 de Triola (2005) e representam os níveis medidos de cotinina (em nanograma por mililitro - ng/ml) em pessoas selecionadas para um estudo. Quando a nicotina (presente na fumaça de cigarros) é absorvida pelo organismo produz-se cotinina. Uma pergunta natural seria: o nível de cotinina em indivíduos não-fumantes expostos à fumaça indireta de cigarros é tão alta quanto o nível de indivíduos fumantes?\n",
    "\n",
    "Vamos carregar este conjunto de dados em um vetor chamado \"coti\" e visualizá-lo executando o comando da célula a seguir:"
   ]
  },
  {
   "cell_type": "code",
   "execution_count": null,
   "metadata": {
    "deletable": false,
    "editable": false
   },
   "outputs": [],
   "source": [
    "coti = read.table(\"cotinina.csv\", header = TRUE, sep = \";\")  # armazenando os dados na memória\n",
    "coti                                                         # visualizando\n",
    "attach(coti)                                                 # acessando as variáveis"
   ]
  },
  {
   "cell_type": "markdown",
   "metadata": {
    "deletable": false,
    "editable": false
   },
   "source": [
    "A variável **Fumante** reprensenta o nível de cotinina em indivíduos que se declaram fumante. A variável **NFE** (não-fumante exposto) representa o nível de cotinina em indivíduos que não fumam, mas que estão expostos à fumaça do cigarro em casa ou no trabalho. Por último, a variável **NFNE** (não-fumante não exposto) representa o nível de cotinina em indivíduos que não fumam e não estão expostos à fumaça de cigarro. Valores zero indicam um nível muito baixo de cotinina (que na verdade nunca é zero).\n",
    "\n",
    "### Exercício 3\n",
    "Por se tratar de uma medida, as variáveis devem ser consideradas quantitativas contínuas. Utilize 6 intervalos de classe com mesma amplitude e obtenha as frequências relativas de cada intervalo para cada variável. Com base no obtido, quais seriam suas conclusões a respeito da pergunta feita no início desta seção?"
   ]
  },
  {
   "cell_type": "code",
   "execution_count": null,
   "metadata": {},
   "outputs": [],
   "source": []
  },
  {
   "cell_type": "code",
   "execution_count": null,
   "metadata": {},
   "outputs": [],
   "source": []
  },
  {
   "cell_type": "code",
   "execution_count": null,
   "metadata": {},
   "outputs": [],
   "source": []
  },
  {
   "cell_type": "code",
   "execution_count": null,
   "metadata": {},
   "outputs": [],
   "source": []
  },
  {
   "cell_type": "code",
   "execution_count": null,
   "metadata": {},
   "outputs": [],
   "source": []
  },
  {
   "cell_type": "code",
   "execution_count": null,
   "metadata": {},
   "outputs": [],
   "source": []
  },
  {
   "cell_type": "markdown",
   "metadata": {
    "deletable": false,
    "editable": false
   },
   "source": [
    "## Parabéns, você concluiu este roteiro prático!\n",
    "\n",
    "<b> <font color='red'>ATENÇÃO! Imprima o conteúdo deste notebook para enventuais consultas futuras, pois assim que o navegador for fechado os códigos serão apagados. Para imprimir, tecle Ctrl+P e salve como um arquivo PDF.</font></b>"
   ]
  }
 ],
 "metadata": {
  "kernelspec": {
   "display_name": "R",
   "language": "R",
   "name": "ir"
  },
  "language_info": {
   "codemirror_mode": "r",
   "file_extension": ".r",
   "mimetype": "text/x-r-source",
   "name": "R",
   "pygments_lexer": "r",
   "version": "3.6.1"
  }
 },
 "nbformat": 4,
 "nbformat_minor": 4
}
