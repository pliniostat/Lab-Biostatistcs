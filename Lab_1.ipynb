{
  "cells": [
    {
      "metadata": {},
      "cell_type": "markdown",
      "source": "<a href=\"http://www.unioeste.br\"><img src=\"https://www.wolfram.com/wolfram-u/catalog/gen203/gen203-featured.png\" align=\"center\"></a>\n\n<h1><center>Atividade Prática em R - Análise Exploratória de Dados</center></h1>"
    },
    {
      "metadata": {},
      "cell_type": "markdown",
      "source": "Nesta atividade prática você aprenderá a utilizar o R para:\n\n* Localizar um conjunto de dados previamente carregado na memória;\n* construir distribuições de frequências;\n* obter representações gráficas dos dados (gráficos de pizza, barras e histograma);\n* calcular medidas resumo;\n* obter os coeficiente de **assimetria** e **curtose** (que não foram apresentados nas aulas);\n* plotar um boxplot.\n\n<b> <font color='red'>ATENÇÃO!</font></b> sempre que este arquivo for reaberto você deverá executar todas as células de código novamente. Cada célula ativa é executada pressionando o botão <b>Run</b> no menu ou teclando <b>Ctrl+Enter</b> (persistindo dúvidas, assista a videoaula de apresentação sobre notebooks).\n\n***\n\n## 1) Sobre os dados\n\nUtilizaremos nesta prática os dados de Bussab & Morettin (2006), disponibilizados na página de um dos autores ([clique aqui](https://www.ime.usp.br/~pam/EstBas.html)). Todos os cojuntos de dados utilizados no livro foram reunidos em um único arquivo do R chamado \"dados.RData\" (também disponível nos formatos .PDF e .xls). Você não precisa baixar o arquivo, pois o mesmo já está armazenado no mesmo diretório das atividades práticas. No R utilizaremos a função load(). Execute a célula a seguir:"
    },
    {
      "metadata": {
        "trusted": true
      },
      "cell_type": "code",
      "source": "load(\"dados.RData\")",
      "execution_count": null,
      "outputs": []
    },
    {
      "metadata": {},
      "cell_type": "markdown",
      "source": "Podemos agora listar todos os objetos armazenados na memória com a função ls(). Execute a célula a seguir:"
    },
    {
      "metadata": {
        "trusted": true
      },
      "cell_type": "code",
      "source": "ls()",
      "execution_count": null,
      "outputs": []
    },
    {
      "metadata": {},
      "cell_type": "markdown",
      "source": "Perceba que existem vários objetos que foram adicionados. Vamos visualizar o objeto \"tab2_1\". Execute a célula a seguir:"
    },
    {
      "metadata": {
        "trusted": true
      },
      "cell_type": "code",
      "source": "tab2_1",
      "execution_count": null,
      "outputs": []
    },
    {
      "metadata": {},
      "cell_type": "markdown",
      "source": "Como você já deve ter percebido, trata-se da Tabela 2.1 de Bussab & Morettin (2006) apresentada em aula, que fornece informações socioeconômicas sobre empregados da seção de orçamentos da Cia. MB. Note que cada coluna possui um rótulo, por exemplo, a variável <b>grau de instrução</b> está rotulada como <b>grau_instrucao</b>. Suponha que estamos interessado nessa variável, para imprimi-la devemos proceder com segue. Execute a célula a seguir:"
    },
    {
      "metadata": {
        "trusted": true
      },
      "cell_type": "code",
      "source": "tab2_1$grau_instrucao",
      "execution_count": null,
      "outputs": []
    },
    {
      "metadata": {},
      "cell_type": "markdown",
      "source": "Podemos armazenar os dados referentes a variável grau de instrução em um novo vetor para simplificar o acesso e não precisar ficar digitando nomes longos das variáveis. Por exemplo, vamos armazenar os dados da variável **grau de instrução** num vetor chamado \"gi\". Execute a célula a seguir:"
    },
    {
      "metadata": {
        "trusted": true
      },
      "cell_type": "code",
      "source": "gi = tab2_1$grau_instrucao # definindo a variável (ficará na memória)\ngi                         # imprimindo os valores da variável",
      "execution_count": null,
      "outputs": []
    },
    {
      "metadata": {},
      "cell_type": "markdown",
      "source": "O comando lenght() fornece o número de elementos de um vetor de dados. Execute a célula a seguir:"
    },
    {
      "metadata": {
        "trusted": true
      },
      "cell_type": "code",
      "source": "length(gi)",
      "execution_count": null,
      "outputs": []
    },
    {
      "metadata": {},
      "cell_type": "markdown",
      "source": "***\n### Exercício 1 \nImprima na tela o conteúdo da variável <b>idade</b> em anos.\n***"
    },
    {
      "metadata": {
        "trusted": true
      },
      "cell_type": "code",
      "source": "",
      "execution_count": null,
      "outputs": []
    },
    {
      "metadata": {},
      "cell_type": "markdown",
      "source": "***\n## 2) Distribuição de frequências\n\nVamos obter tabelas de distribuição de frequências.\n\n### 2.1) Variável Qualitativa ou Quantitativa Discreta\n\nVamos agora obter uma tabela de distribuição de frequências para a variável **grau de instrução**. O comando table() apresenta as frequências absolutas de cada modalidade da variável. Seu resultado serve como argumento para o comando prop.table() que fornece as frequências relativas. Podemos multiplicar o resultado de prop.table() por 100 para obter as porcentagens. Execute as próximas três células."
    },
    {
      "metadata": {
        "trusted": true
      },
      "cell_type": "code",
      "source": "ni = table(gi) # o resultado deste comando ficará armazenado no vetor ni para uso posterior\nni",
      "execution_count": null,
      "outputs": []
    },
    {
      "metadata": {
        "trusted": true
      },
      "cell_type": "code",
      "source": "fi = prop.table(ni)        # o resultado deste comando ficará armazenado no vetor fi para uso posterior\nfi = round(fi, digits = 2) # o resultado da linha anterior é arredondado para duas casas decimais\nfi",
      "execution_count": null,
      "outputs": []
    },
    {
      "metadata": {
        "trusted": true
      },
      "cell_type": "code",
      "source": "p_fi = 100*fi # frequências em porcentagens, armazenado no vetor p_fi\np_fi",
      "execution_count": null,
      "outputs": []
    },
    {
      "metadata": {},
      "cell_type": "markdown",
      "source": "Vamos adicionar linhas com os totais de cada modalidade e armazená-los em vetores. Execute a célula a seguir:"
    },
    {
      "metadata": {
        "trusted": true
      },
      "cell_type": "code",
      "source": "freq_abs   = c(ni,sum(ni))\nfreq_rel   = c(fi,sum(fi))\nporc       = c(p_fi,sum(p_fi))\nnames(freq_abs)[4] = \"Total\"",
      "execution_count": null,
      "outputs": []
    },
    {
      "metadata": {},
      "cell_type": "markdown",
      "source": "Para imprimir a tabela de distribuição de frequências utilizamos o comando cbind() que serve para dispor vetores em colunas de uma tabela. Execute o célula a seguir:"
    },
    {
      "metadata": {
        "trusted": true
      },
      "cell_type": "code",
      "source": "cbind(freq_abs, freq_rel, porc)",
      "execution_count": null,
      "outputs": []
    },
    {
      "metadata": {},
      "cell_type": "markdown",
      "source": "***\n### Exercício 2\nObtenha a tabela de distribuição de frequências para a variável <b>região de procedência</b>. <font color='red'><b>Utilize nomes diferentes para os vetores para não gerar conflito com os exercícios posteriores.</b></font>\n***"
    },
    {
      "metadata": {
        "trusted": true
      },
      "cell_type": "code",
      "source": "",
      "execution_count": null,
      "outputs": []
    },
    {
      "metadata": {},
      "cell_type": "markdown",
      "source": "### 2.2) Variável Quantitativa Contínua\n\nComo vimos em aula, a construção de tabelas de distribuição de frequências para variáveis quantitativas contínuas requer uma abordagem diferenciada. Em primeiro lugar, devemos construir os intervalos de classe. Vamos considerar a variável <b>salário</b>.\n\n***\n### Exercício 3\nArmazene os dados correspondentes a variável <b>salário</b> em um novo vetor chamado \"s\".\n***"
    },
    {
      "metadata": {
        "trusted": true
      },
      "cell_type": "code",
      "source": "",
      "execution_count": null,
      "outputs": []
    },
    {
      "metadata": {},
      "cell_type": "markdown",
      "source": "A função cut() do R nos auxiliará na obtenção dos intervalos de classe. O argumento \"breaks\" define quantos intervalos queremos,  enquanto o argumento \"right = FALSE\" significa que o extremo direito do intervalo não deve ser fechado. Execute a célula a seguir:"
    },
    {
      "metadata": {
        "trusted": true
      },
      "cell_type": "code",
      "source": "int = cut(s, breaks = seq(4,24,by = 4), right = FALSE) # intervalos de classe armazenados no objeto int",
      "execution_count": null,
      "outputs": []
    },
    {
      "metadata": {},
      "cell_type": "markdown",
      "source": "A partir de agora o procedimento é análogo ao que foi feito anteriormente. Por exemplo, a função table() fornecerá as frequências absolutas de cada intervalo de classe. Execute a célula a seguir:"
    },
    {
      "metadata": {
        "trusted": true
      },
      "cell_type": "code",
      "source": "ns = table(int)\nns",
      "execution_count": null,
      "outputs": []
    },
    {
      "metadata": {},
      "cell_type": "markdown",
      "source": "***\n### Exercício 4\nObtenha a tabela de distribuição de frequências para a variável **salário**. <font color='red'><b>Utilize nomes diferentes para os vetores para não gerar conflito com os exercícios posteriores.</b></font>\n***"
    },
    {
      "metadata": {
        "trusted": true
      },
      "cell_type": "code",
      "source": "",
      "execution_count": null,
      "outputs": []
    },
    {
      "metadata": {},
      "cell_type": "markdown",
      "source": "***\n## 3) Representações Gráficas\nVamos conhecer agora algumas funções para representações gráficas no R. Primeiramente, execute a célula a seguir que serve para redimensionar os gráficos para melhor apresentação neste notebook (esta ação não é necessária, caso você esteja utilizando o R nativamente, isto é, por meio do software instalado em seu computador)."
    },
    {
      "metadata": {
        "trusted": true
      },
      "cell_type": "code",
      "source": "# Redimensionamento de gráficos\nlibrary(repr)\noptions(repr.plot.width=5, repr.plot.height=5)",
      "execution_count": null,
      "outputs": []
    },
    {
      "metadata": {},
      "cell_type": "markdown",
      "source": "### 3.1) Gráfico de Pizza\nPara esse tipo de gráfico, devemos coletar as frequências (absolutas, relativas, ou porcentagens) da variável de interesse e utilizar a função pie(). Vamos considerar a variável **grau de instrução**. Execute as células a seguir:"
    },
    {
      "metadata": {
        "trusted": true
      },
      "cell_type": "code",
      "source": "pie(table(gi), main = \"Versão simplificada\")",
      "execution_count": null,
      "outputs": []
    },
    {
      "metadata": {
        "trusted": true
      },
      "cell_type": "code",
      "source": "pie(p_fi, labels = paste(c(\"fundamental\",\"médio\",\"superior\"),\" (\", as.character(p_fi),\"%)\", sep = \"\"), main = \"Versão detalhada (formatada)\")",
      "execution_count": null,
      "outputs": []
    },
    {
      "metadata": {},
      "cell_type": "markdown",
      "source": "***\n### Exercício 5\nObtenha um gráfico de pizza simples ou detalhado para a variável **região de procedência**.\n***"
    },
    {
      "metadata": {
        "trusted": true
      },
      "cell_type": "code",
      "source": "",
      "execution_count": null,
      "outputs": []
    },
    {
      "metadata": {},
      "cell_type": "markdown",
      "source": "### 3.2) Gráfico de Barras\nVamos novamente coletar as informações obtidas pela tabela de distribuição de frequências e representá-la graficamente por meio da função barplot(). Considere novamente a variável **grau de instrução** (armazenada no vetor \"gi\"). Execute as células a seguir:"
    },
    {
      "metadata": {
        "trusted": true
      },
      "cell_type": "code",
      "source": "barplot(table(gi)) # versão não formatada (note que uma das barras ficará sem nome por falta de espaço)",
      "execution_count": null,
      "outputs": []
    },
    {
      "metadata": {
        "trusted": true
      },
      "cell_type": "code",
      "source": "barplot(table(gi), ylab=\"Frequência\", names.arg = c(\"Fundamental\",\"Médio\", \"Superior\"), ylim=c(0,20)) # versão com alguma formatação",
      "execution_count": null,
      "outputs": []
    },
    {
      "metadata": {},
      "cell_type": "markdown",
      "source": "***\n### Exercício 6\nConstrua um gráfico de barras para as variáveis **número de filhos** e **salário**. A formatação é opcional.\n***"
    },
    {
      "metadata": {
        "trusted": true
      },
      "cell_type": "code",
      "source": "",
      "execution_count": null,
      "outputs": []
    },
    {
      "metadata": {},
      "cell_type": "markdown",
      "source": "### 3.3) Histogramas\nA construção de histogramas é muito simples e direta no R. A escolha dos intervalos de classe para variáveis contínuas é automática, embora seja possível escolher arbitrariamente se necessário. Vamos construir um histograma para a variável **salário** considerando suas versões em frequência absoluta e relativa. Vamos também construir uma versão com os mesmos intervalos de classe escolhidos nas aulas. Execute as células a seguir:"
    },
    {
      "metadata": {
        "trusted": true
      },
      "cell_type": "code",
      "source": "hist(s) # Histograma em frequência absoluta",
      "execution_count": null,
      "outputs": []
    },
    {
      "metadata": {
        "trusted": true
      },
      "cell_type": "code",
      "source": "hist(s, freq=FALSE) # Histograma em frequência relativa (note que os valores do eixo y mudam)",
      "execution_count": null,
      "outputs": []
    },
    {
      "metadata": {
        "trusted": true
      },
      "cell_type": "code",
      "source": "hist(s, breaks=seq(4,24,by=4), freq=FALSE) # Neste caso, escolhi os intervalos de classe arbitrariamente como apresentado em aula.",
      "execution_count": null,
      "outputs": []
    },
    {
      "metadata": {
        "trusted": true
      },
      "cell_type": "code",
      "source": "## Versão altamente editada (apenas para ilustração)\nfig  = hist(s, breaks = seq(4,24,by=4), right=FALSE, plot=F)\naux  = with(fig, 100 * density*diff(breaks)[1])\nlabs = paste(round(aux), \"%\", sep=\"\")\n\nplot(fig, \n     freq = FALSE, labels = labs, las = 1,\n     ylab=\"Densidade de Frequência Relativa\",\n     xlab=\"Salário\",\n     col=\"darkgrey\",\n     border=\"white\",\n     main=\"Histograma da variável salário\",\n     xlim=c(0,24), xaxp=c(0,24,6),\n     ylim=c(0,.1))",
      "execution_count": null,
      "outputs": []
    },
    {
      "metadata": {},
      "cell_type": "markdown",
      "source": "***\n### Exercício 7\nObtenha um histograma para a variável **número de filhos**. A formatação é opcional.\n***"
    },
    {
      "metadata": {
        "trusted": true
      },
      "cell_type": "code",
      "source": "",
      "execution_count": null,
      "outputs": []
    },
    {
      "metadata": {},
      "cell_type": "markdown",
      "source": "***\n## 4) Medidas Resumo - Medidas de Posição\n\nNesta etapa você irá aprender a calcular diversas medidas resumo no R.\n\n### 4.1) Moda\nNão existe no R uma função para se calcular a moda para variáveis qualitativas e quantitativas discretas. A célula a seguir contém uma implementação bem simples para calcular modas. Execute-a para poder prosseguir."
    },
    {
      "metadata": {
        "trusted": true
      },
      "cell_type": "code",
      "source": "moda = function(x)\n{\n   z   = table(as.vector(x))\n   out = names(z)[z == max(z)]\n   ifelse(length(out) == length(x), return(\"conjunto amodal\"), return(expr=c(\"A moda é:\", out)))\n}",
      "execution_count": null,
      "outputs": []
    },
    {
      "metadata": {},
      "cell_type": "markdown",
      "source": "Vamos considerar 3 conjuntos de dados artificiais. Um homogêneo (moda única), um bimodal e um amodal (sem moda). Execute a célula a seguir:"
    },
    {
      "metadata": {
        "trusted": true
      },
      "cell_type": "code",
      "source": "dados1 = c(9,2,2,2,3,3,5,10)       # dados unimodal\ndados2 = c(1,1,2,2,2,3,3,3,5,6,15) # dados bimodal\ndados3 = c(1,2,3,4,5,10)           # dados amodal\n\nmoda(dados1)\nmoda(dados2)\nmoda(dados3)",
      "execution_count": null,
      "outputs": []
    },
    {
      "metadata": {},
      "cell_type": "markdown",
      "source": "***\n### Exercício 8\nUtilize a função implementada anteriormente para calcular a moda das variáveis **número de filhos** e **grau de instrução**. Obtenha também uma aproximação para a moda da variável **salário**. Se necessário crie mais células (**Menu -> Insert -> Insert Cell Below**).\n***"
    },
    {
      "metadata": {
        "trusted": true
      },
      "cell_type": "code",
      "source": "",
      "execution_count": null,
      "outputs": []
    },
    {
      "metadata": {},
      "cell_type": "markdown",
      "source": "### 4.2) Mediana\n\nA mediana é calculada facilmente no R por meio da função median(). Tal função só funciona com dados numéricos. Vamos calcular a mediana da variável **salário**. Execute a célula a seguir:"
    },
    {
      "metadata": {
        "trusted": true
      },
      "cell_type": "code",
      "source": "median(s)",
      "execution_count": null,
      "outputs": []
    },
    {
      "metadata": {},
      "cell_type": "markdown",
      "source": "Observe novamente a tabela que contém os dados da Cia. MB. Note que a variável número de filhos possui entradas do tipo \"NA\" (not available), ou seja, por alguma razão o funcionário não respondeu quantos filhos possui. Podemos utilizar o argumento \"na.rm = TRUE\" em várias funções do R para eliminar essas entradas faltantes e calcular medidas levando em conta apenas os valores informados. Execute a célula a seguir:"
    },
    {
      "metadata": {
        "trusted": true
      },
      "cell_type": "code",
      "source": "median(tab2_1$n_filhos, na.rm = TRUE)",
      "execution_count": null,
      "outputs": []
    },
    {
      "metadata": {},
      "cell_type": "markdown",
      "source": "***\n### Exercício 9\nObtenha a média para a variável **idade** (em anos)\n***"
    },
    {
      "metadata": {
        "trusted": true
      },
      "cell_type": "code",
      "source": "",
      "execution_count": null,
      "outputs": []
    },
    {
      "metadata": {},
      "cell_type": "markdown",
      "source": "### 4.3) Média\nAssim como no caso da mediana, o R fornece um função simples para o cálculo de médias. A sintaxe de tal função é mean(). Novamente podemos eliminar dados faltantes por meio do argumento \"na.rm = TRUE\". Vamos obter a média da variável **salário**. Execute a célula a seguir:"
    },
    {
      "metadata": {
        "trusted": true
      },
      "cell_type": "code",
      "source": "mean(s)",
      "execution_count": null,
      "outputs": []
    },
    {
      "metadata": {},
      "cell_type": "markdown",
      "source": "***\n### Exercício 10\nCalcule a média das variáveis **idade** (em anos) e **número de filhos**.\n***"
    },
    {
      "metadata": {
        "trusted": true
      },
      "cell_type": "code",
      "source": "",
      "execution_count": null,
      "outputs": []
    },
    {
      "metadata": {},
      "cell_type": "markdown",
      "source": "***\n## 5) Medidas Resumo - Medidas de Dispersão\nApresentaremos no que segue as funções para se calcular variância e desvio padrão.\n\n### 5.1) Variância e desvio padrão\n\nVimos em sala de aula que a variância de uma variável $X$, cujas observações são denotadas por $x_1,x_2,\\ldots,x_n$ é definida por:\n\n$$\\mbox{Var}(X)=\\frac{1}{n}\\sum_{i=1}^n x_i.$$\n\nNo entanto, o R considera a seguinte versão dita *não viesada* (por razões técnicas da teoria estatística que não serão tratadas agora):\n\n$$\\mbox{Var}(X)=\\frac{1}{n-1}\\sum_{i=1}^n x_i.$$\n\nDe qualquer forma, para dados suficientemente grandes ($n$ grande), a diferença entre as duas fórmulas é praticamente nula. No R, a variância é obtida por meio da função var(). Vamos calcular a variância da variável **salário**. Execute as células a seguir:"
    },
    {
      "metadata": {
        "trusted": true
      },
      "cell_type": "code",
      "source": "var(s)  # versão obtida pela segunda expressão",
      "execution_count": null,
      "outputs": []
    },
    {
      "metadata": {
        "trusted": true
      },
      "cell_type": "code",
      "source": "n = length(s)    # obtendo o valor de n (tamanho dos dados)\n((n-1)/n)*var(s) # versão obtida pela primeira expressão",
      "execution_count": null,
      "outputs": []
    },
    {
      "metadata": {},
      "cell_type": "markdown",
      "source": "De agora em diante utilizaremos apenas a versão fornecida pelo R. Para calcular o desvio padrão, basta extrair a raíz quadrada da variância por meio da função sqrt() ou utilizar diretamente a função sd(). Execute as células a seguir: "
    },
    {
      "metadata": {
        "trusted": true
      },
      "cell_type": "code",
      "source": "sqrt(var(s)) # desvio padrão obtido pela extração da raíz quadrada da variância",
      "execution_count": null,
      "outputs": []
    },
    {
      "metadata": {
        "trusted": true
      },
      "cell_type": "code",
      "source": "sd(s) # função para calcular diretamente o desvio padrão",
      "execution_count": null,
      "outputs": []
    },
    {
      "metadata": {},
      "cell_type": "markdown",
      "source": "***\n### Exercício 11\nCalcule a variância e o desvio padrão das variáveis **idade** (em anos) e **número de filhos**. Utilizando a definição apresentada em aula, calcule o **coeficiente de variação** dessas variáveis. Se necessário, insira mais células **(Menu -> Insert ->  Insert Cell Below)**.\n***"
    },
    {
      "metadata": {
        "trusted": true
      },
      "cell_type": "code",
      "source": "",
      "execution_count": null,
      "outputs": []
    },
    {
      "metadata": {},
      "cell_type": "markdown",
      "source": "***\n## 6) Coeficiente de assimetria e curtose\nDiscutimos extensivamente o conceito de simetria e assimetria em aula. Vamos definir e calcular com o auxílio do R uma medida que quantifica essa a assimetria da distruição dos dados. Vamos também definir um novo conceito chamado **curtose**, que também tem relação com a forma da distribuição dos dados. Primeiramente, vamos definir alguns objetos importantes.\n\nSejam $x_1,x_2,\\ldots,x_n$ um conjunto de dados sobre a variável $X$. Defina\n\n$$m_2=Var(X)=\\frac{1}{n}\\sum_{i=1}^n (x_i-\\bar{x})^2,$$\n\nem que $\\bar{x}=\\frac{1}{n}\\sum_{i=1}^n x_i$ é a média dos dados. Defina também a seguinte **padronização** dos dados\n\n$$z_i=\\frac{x_i-\\bar{x}}{\\sqrt{m_2}} \\ \\ (i=1,2,\\ldots,n).$$\n\n### 6.1) Coeficiente de assimetria\nO **coeficiente de assimetria amostral**, denotado por $b_1$, é definido por:\n\n$$b_1=\\frac{1}{n}\\sum_{i=1}^n z_i^3.$$\n\nDevemos interpretar o coeficiente de assimetria como segue:\n\n* Se a distribuição dos dados for assimétrica à **direita** (ou positiva), devemos ter $b_1>0$;\n* se a distribuição dos dados for assimétrica à **esquerda** (ou negativa), devemos ter $b_1<0$;\n* se a distribuição dos dados for simétrica (aproximadamente), devemos ter $b_1\\approx 0$.\n\nTal função **não** está implementada no R. A célula a seguir contém uma função implementada para calcular o coeficiente de assimetria, execute-a para poder prosseguir:"
    },
    {
      "metadata": {
        "trusted": true
      },
      "cell_type": "code",
      "source": "# Função para calcular o coeficiente de assimetria\nassimetria <- function(x)\n{\n   x  = na.omit(x)\n   m2 = mean((x-mean(x))^2)\n   z  = (x-mean(x))/sqrt(m2)\n   b1 = mean(z^3)\n   return(b1)\n}",
      "execution_count": null,
      "outputs": []
    },
    {
      "metadata": {},
      "cell_type": "markdown",
      "source": "O histograma da variável **salário** obtido anteriormente sugere que a distribuição desses dados possui assimetria à direita. Vamos verificar isso calculando o coeficiente de assimetria com a função implementada. Execute a célula a seguir:"
    },
    {
      "metadata": {
        "trusted": true
      },
      "cell_type": "code",
      "source": "assimetria(s)",
      "execution_count": null,
      "outputs": []
    },
    {
      "metadata": {},
      "cell_type": "markdown",
      "source": "***\n### Exercício 12\nObtenha o coeficiente de assimetria das variáveis **idade** (em anos) e **número de filhos**. Nas primeiras duas células introduza o cálculo do coeficiente para cada variável e nas duas últimas células escreva sobre a sua decisão quanto à simetria ou assimetria da distribuição de cada variável.\n***"
    },
    {
      "metadata": {
        "trusted": true
      },
      "cell_type": "code",
      "source": "# Cálculo do coef. de assimetria para a variável idade\n",
      "execution_count": null,
      "outputs": []
    },
    {
      "metadata": {
        "trusted": true
      },
      "cell_type": "code",
      "source": "# Cálculo do coef. de assimetria para a variável número de filhos\n",
      "execution_count": null,
      "outputs": []
    },
    {
      "metadata": {},
      "cell_type": "markdown",
      "source": "Escreva após o símbolo \"#\" na célula a seguir a sua resposta quando a simetria da variável **idade** (em anos):"
    },
    {
      "metadata": {
        "trusted": true
      },
      "cell_type": "code",
      "source": "#",
      "execution_count": null,
      "outputs": []
    },
    {
      "metadata": {},
      "cell_type": "markdown",
      "source": "Escreva após o símbolo \"#\" na célula a seguir a sua resposta quando a simetria da variável **número de fihos**:"
    },
    {
      "metadata": {
        "trusted": true
      },
      "cell_type": "code",
      "source": "#",
      "execution_count": null,
      "outputs": []
    },
    {
      "metadata": {},
      "cell_type": "markdown",
      "source": "### 6.2) Coeficiente de curtose\nO **coeficiente de curtose**, excesso de curtose ou achatamento, mede o quanto a distribuição dos dados é concentrada ou dispersa em torno de uma medida de posição central. Tal medida também está relacionada com o *peso da cauda* da distribuição dos dados, isto é, o quão propensa a distribuição dos dados é na geração de valores extremos (valores muito distantes de onde a maioria das observações se concentram - \"outliers\"). Dados os valores de $z_1,z_2,\\ldots,z_n$ definidos em (6.1), este coeficiente é dado por:\n\n$$b_2=\\left(\\frac{1}{n}\\sum_{i=1}^n z_i^4\\right) - 3.$$\n\n\nA curtose é classificada em três tipos quando ao valor de $b_2$:\n\n* Se $b_2<0$, dizemos que a distribuição dos dados possui caudas mais leves que as da distribuição normal$^*$ (**Platicúrtica**).\n* Se $b_2\\approx 0$, dizemos que a distribuição dos dados possui caudas aproximadamente iguais as da distribuição normal (**Mesocúrtica:**). \n* Se $b_2>0$, dizemos que a distribuição dos dados possui caudas mais pesadas que as da distribuição normal (**Leptocúrtica:**).\n\n$^*$ Vamos conhecer a **distribuição normal de probabilidades** na segunda parte do curso, mas podemos interpretar a curtose graficamente:\n\n\n<img src=\"http://www.portalaction.com.br/sites/default/files/resize/EstatisticaBasica/figuras/curtose1-700x304.png\" align=\"center\"></a>\n\n\nNovamos, devemos implementar a função para calcular o coeficiente de curtose no R. A célula a seguir contém uma função implementada para calcular o coeficiente de curtose, execute-a para poder prosseguir:"
    },
    {
      "metadata": {
        "trusted": true
      },
      "cell_type": "code",
      "source": "# Função para calcular o coeficiente de curtose\ncurtose <- function(x)\n{\n   x  = na.omit(x)\n   m2 = mean((x-mean(x))^2)\n   z  = (x-mean(x))/sqrt(m2)\n   b2 = mean(z^4) - 3\n   return(b2)   \n}",
      "execution_count": null,
      "outputs": []
    },
    {
      "metadata": {},
      "cell_type": "markdown",
      "source": "***\n### Exercício 13\nObtenha o coeficinte de curtose da variável **salário**. Você consegue interpretar o valor obtido?\n***"
    },
    {
      "metadata": {
        "trusted": true
      },
      "cell_type": "code",
      "source": "# Utilize essa célula para calcular a curtose\n",
      "execution_count": null,
      "outputs": []
    },
    {
      "metadata": {
        "trusted": true
      },
      "cell_type": "code",
      "source": "# Escreva a sua interpretação após o símbolo # abaixo\n#",
      "execution_count": null,
      "outputs": []
    },
    {
      "metadata": {},
      "cell_type": "markdown",
      "source": "***\n## 7) Quantis\nNesta etapa você aprenderá a calcular **quantis** de qualquer ordem, obter o **diagrama dos cinco números**, plotar **gráficos de quantis** e construir **boxplots**.\n\n### 7.1) Cálculo de quantis e diagrama dos cinco números\nA função quantile() é utilizada para calcular quantis de ordem $p$ no R. No primeiro argumento da função informamos a variável e no segundo o valor de $p$. Vamos calcular os quantis de ordem 0,25 da variável **salário**. Execute a célula a seguir: "
    },
    {
      "metadata": {
        "trusted": true
      },
      "cell_type": "code",
      "source": "quantile(s,0.25)",
      "execution_count": null,
      "outputs": []
    },
    {
      "metadata": {},
      "cell_type": "markdown",
      "source": "Observe que o quantil de ordem 0,50 coincide com a mediana. Execute a célula a seguir:"
    },
    {
      "metadata": {
        "trusted": true
      },
      "cell_type": "code",
      "source": "quantile(s,0.5)\nmedian(s) ",
      "execution_count": null,
      "outputs": []
    },
    {
      "metadata": {},
      "cell_type": "markdown",
      "source": "O **diagrama dos cinco números** é obtido facilmente no R por meio da funcão summary(). Na verdade o R fornece seis valores, pois informa também a média. Execute a célula a seguir para obter este diagrama para a variável **salário**:"
    },
    {
      "metadata": {
        "trusted": true
      },
      "cell_type": "code",
      "source": "summary(s)",
      "execution_count": null,
      "outputs": []
    },
    {
      "metadata": {},
      "cell_type": "markdown",
      "source": "### 7.2) Gráfico de quantis\nPara obter gráficos de quantis, devemos primeiro criar uma sequência de valores de $p$ no intervalo $[0,1]$ e que serão dispostos no eixo das abscissas do gráfico. Execute a célula a seguir:"
    },
    {
      "metadata": {
        "trusted": true
      },
      "cell_type": "code",
      "source": "# Criando uma sequência de proporções que começa em 0 e termina em 1 com saltos de tamanho 0,05\nprops = seq(0,1,0.05)\nprops",
      "execution_count": null,
      "outputs": []
    },
    {
      "metadata": {},
      "cell_type": "markdown",
      "source": "Vamos agora calcular os quantis correspondentes para a variável **salário**. Execute a célula a seguir:"
    },
    {
      "metadata": {
        "trusted": true
      },
      "cell_type": "code",
      "source": "quant = quantile(s,props)\nquant",
      "execution_count": null,
      "outputs": []
    },
    {
      "metadata": {},
      "cell_type": "markdown",
      "source": "Agora podemos criar o gráfico por meio da função plot(). Execute a célula a seguir:"
    },
    {
      "metadata": {
        "trusted": true
      },
      "cell_type": "code",
      "source": "plot(props, quant)",
      "execution_count": null,
      "outputs": []
    },
    {
      "metadata": {},
      "cell_type": "markdown",
      "source": "***\n### Exercício 14\nConstrua um gráfico de quantis para a variável **idade (em anos)**.\n***"
    },
    {
      "metadata": {
        "trusted": true
      },
      "cell_type": "code",
      "source": "",
      "execution_count": null,
      "outputs": []
    },
    {
      "metadata": {},
      "cell_type": "markdown",
      "source": "***\n## 8) Box plot\nComo na construção do histograma, o R fornece uma função simples para obtenção do **box plot**. Vamos construir um box plot para a variável **salário**. Execute as células a seguir:"
    },
    {
      "metadata": {
        "trusted": true
      },
      "cell_type": "code",
      "source": "# boxplot tradicional na vertical\nboxplot(s)",
      "execution_count": null,
      "outputs": []
    },
    {
      "metadata": {
        "trusted": true
      },
      "cell_type": "code",
      "source": "# box plot na horizontal\nboxplot(s, horizontal = TRUE)",
      "execution_count": null,
      "outputs": []
    },
    {
      "metadata": {},
      "cell_type": "markdown",
      "source": "Para comparar box plots, basta adicionar as variáveis no argumento da função. Por exemplo, vamos comparar a variável **salário** com a variável **idade (em anos)**. Para isso, devemos **padronizar** as variáveis, pois as mesmas possuem escalas diferente. Dados $x_1,x_2,\\ldots,x_n$, dados de uma variável $X$, uma possível padronização é dada por:\n\n$$z_i =\\frac{x_i-\\bar{x}}{\\mbox{dp}(x)}, \\ \\ (i=1,2,\\ldots,n),$$\n\nlembrando que $\\mbox{dp}(x)$ é o desvio padrão dos dados. A padronização acima também é dita **normalização** dos dados, fazendo com que estes fiquem com média 0 e desvio padrão 1. Execute a célula a seguir:"
    },
    {
      "metadata": {
        "trusted": true
      },
      "cell_type": "code",
      "source": "id = tab2_1$idade_anos      # armezenando os dados da variável idade (em anos) num vetor id\n\ns_p = (s-mean(s))/sd(x)     # padronização da variável salário\n\nid_p = (id-mean(id))/sd(id) # padronização da variável idade (em anos)\n\nboxplot(s_p, id_p)",
      "execution_count": null,
      "outputs": []
    },
    {
      "metadata": {},
      "cell_type": "markdown",
      "source": "***\n### Exercício 15\nEm aula, contruímos um box plot para os dados sobre as populações dos 15 municípios mais populosos do Brasil. Os dados completos (30 municípios) encontram-se na tabela \"cd_municipios\" que faz parte dos dados carregados na memória no início dessa atividade prática. Acesse esses dados e utilizando uma célula para cada item:\n\n* (a) Obtenha um diagrama dos cinco números e a média.\n* (b) Calcule a variância e o desvio padrão.\n* (c) Obtenha o Histograma.\n* (d) Obtenha um gráfico de quantis\n* (e) Obtenha o Box plot.\n* (f) Interprete os resultados.\n***"
    },
    {
      "metadata": {
        "trusted": true
      },
      "cell_type": "code",
      "source": "# Obtenha aqui o diagrama dos cinco números e a média\n",
      "execution_count": null,
      "outputs": []
    },
    {
      "metadata": {
        "trusted": true
      },
      "cell_type": "code",
      "source": "# Calcule aqui a variância e o desvio padrão\n",
      "execution_count": null,
      "outputs": []
    },
    {
      "metadata": {
        "trusted": true
      },
      "cell_type": "code",
      "source": "# Faça aqui seu histograma\n",
      "execution_count": null,
      "outputs": []
    },
    {
      "metadata": {
        "trusted": true
      },
      "cell_type": "code",
      "source": "# Faça aqui seu gráfico de quantis\n",
      "execution_count": null,
      "outputs": []
    },
    {
      "metadata": {
        "trusted": true
      },
      "cell_type": "code",
      "source": "# Faça aqui seu boxplot\n",
      "execution_count": null,
      "outputs": []
    },
    {
      "metadata": {
        "trusted": true
      },
      "cell_type": "code",
      "source": "# Escreva após o simbolo # sua interpretação dos resultados\n#",
      "execution_count": null,
      "outputs": []
    },
    {
      "metadata": {},
      "cell_type": "markdown",
      "source": "***\n## Parabéns, você concluiu a atividade prática!\nPara enviar sua atividade siga as seguintes instruções:\n\n* 1."
    }
  ],
  "metadata": {
    "kernelspec": {
      "name": "r",
      "display_name": "R",
      "language": "R"
    },
    "language_info": {
      "mimetype": "text/x-r-source",
      "name": "R",
      "pygments_lexer": "r",
      "version": "3.5.3",
      "file_extension": ".r",
      "codemirror_mode": "r"
    }
  },
  "nbformat": 4,
  "nbformat_minor": 2
}